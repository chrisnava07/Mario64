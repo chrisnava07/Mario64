{
 "cells": [
  {
   "cell_type": "code",
   "execution_count": 2,
   "metadata": {},
   "outputs": [
    {
     "name": "stdout",
     "output_type": "stream",
     "text": [
      "b'Hello, TensorFlow!'\n"
     ]
    }
   ],
   "source": [
    "import tensorflow as tf\n",
    "hello = tf.constant('Hello, TensorFlow!')\n",
    "sess = tf.Session()\n",
    "print(sess.run(hello))"
   ]
  },
  {
   "cell_type": "code",
   "execution_count": null,
   "metadata": {},
   "outputs": [],
   "source": []
  },
  {
   "cell_type": "markdown",
   "metadata": {},
   "source": [
    "https://github.com/PercyJaiswal/Find_Lane_Line_Live_OpenCV/blob/master/Live_Lane_Line_Find.py\n",
    "https://towardsdatascience.com/finding-driving-lane-line-live-with-opencv-f17c266f15db    "
   ]
  },
  {
   "cell_type": "code",
   "execution_count": 2,
   "metadata": {},
   "outputs": [
    {
     "name": "stdout",
     "output_type": "stream",
     "text": [
      "(1600, 1180)\n",
      "<class 'numpy.ndarray'>\n"
     ]
    },
    {
     "name": "stderr",
     "output_type": "stream",
     "text": [
      "c:\\users\\595295\\python\\lib\\site-packages\\ipykernel_launcher.py:19: DeprecationWarning: `toimage` is deprecated!\n",
      "`toimage` is deprecated in SciPy 1.0.0, and will be removed in 1.2.0.\n",
      "Use Pillow's ``Image.fromarray`` directly instead.\n"
     ]
    }
   ],
   "source": [
    "import cv2, scipy.misc\n",
    "from PIL import ImageGrab\n",
    "import numpy as np\n",
    "\n",
    "\n",
    "grayscreen = ImageGrab.grab(bbox=(0,120,1600,1300)).convert('L')\n",
    "print(grayscreen.size)\n",
    "grayscreen = np.array(grayscreen)\n",
    "grayscalesmooth = cv2.GaussianBlur(grayscreen,(5,5),0)\n",
    "#screen.show()\n",
    "#grayscale.show()\n",
    "\n",
    "v = np.median(grayscreen)\n",
    "sigma = 0.33\n",
    "lower = int(max(0, (1.0 - sigma) * v))\n",
    "upper = int(min(255, (1.0 + sigma) * v))\n",
    "edge = cv2.Canny(grayscalesmooth,100,200)\n",
    "print(type(edge))\n",
    "edge = scipy.misc.toimage(edge)\n",
    "edge.show()\n"
   ]
  },
  {
   "cell_type": "code",
   "execution_count": 4,
   "metadata": {},
   "outputs": [
    {
     "name": "stderr",
     "output_type": "stream",
     "text": [
      "c:\\users\\595295\\python\\lib\\site-packages\\ipykernel_launcher.py:15: DeprecationWarning: `toimage` is deprecated!\n",
      "`toimage` is deprecated in SciPy 1.0.0, and will be removed in 1.2.0.\n",
      "Use Pillow's ``Image.fromarray`` directly instead.\n",
      "  from ipykernel import kernelapp as app\n"
     ]
    }
   ],
   "source": [
    "import cv2, scipy.misc, time\n",
    "from PIL import ImageGrab\n",
    "import numpy as np\n",
    "\n",
    "def grab_screen():\n",
    "    \n",
    "    kernel = 5\n",
    "    grayscreen = np.array(ImageGrab.grab(bbox=(0,120,1600,1300)).convert('L'))\n",
    "    grayscalesmooth = cv2.GaussianBlur(grayscreen,(kernel,kernel),0)\n",
    "    \n",
    "    low_thresh = 100\n",
    "    high_thresh = 200\n",
    "    edge = cv2.Canny(grayscalesmooth,low_thresh, high_thresh)\n",
    "    \n",
    "    edge_image = scipy.misc.toimage(edge)\n",
    "    \n",
    "    return edge_image\n",
    "\n",
    "screen_list = []\n",
    "for i in range(10):\n",
    "    time.sleep(1)\n",
    "    screen_list.append(grab_screen())\n",
    "    \n",
    "for im in screen_list:\n",
    "    im.show()"
   ]
  },
  {
   "cell_type": "markdown",
   "metadata": {},
   "source": [
    "## Default Keybinds for Project64\n",
    "\n",
    "\n",
    "#### Analogue \n",
    "\n",
    "L - left arrow \n",
    "R - right arrow \n",
    "U - up arrow \n",
    "D - down arrow \n",
    "\n",
    "#### C-buttons\n",
    "\n",
    "L - delete \n",
    "R - page down \n",
    "U - home \n",
    "D - end \n",
    "\n",
    "#### Digital\n",
    "\n",
    "L - Numpad 4 \n",
    "R - Numpad 6 \n",
    "U - Numpad 8 \n",
    "D - Numpad 2 \n",
    "A - X\n",
    "B - C\n",
    "S - Enter\n",
    "L - A\n",
    "R - S\n",
    "Z - Z\n",
    "\n",
    " \n",
    "\n",
    "Players 2-4 are not pre-configured (or enabled)\n",
    "\n"
   ]
  },
  {
   "cell_type": "code",
   "execution_count": null,
   "metadata": {},
   "outputs": [],
   "source": [
    "project64_options = {\n",
    "    'left' : '0xCB',\n",
    "    'right' : '0xCD',\n",
    "    'up' : '0xC8',\n",
    "    'down' : '0xD0',\n",
    "    'delete' : '0xD3',\n",
    "    'pagedown' :  '0xD1',\n",
    "    'pageup' : '0xC9',\n",
    "    'home' : '0xC7',\n",
    "    'end' : '0xCF',\n",
    "    'num4' : '0x4B',\n",
    "    'num6' : '0x4D',\n",
    "    'num8' : '0x48',\n",
    "    'num2' : '0x50',\n",
    "    'x' : '0x2D',\n",
    "    'c' : '0x2E',\n",
    "    'enter' : '0x1C',\n",
    "    'a' : '0x1E',\n",
    "    's' : '0x1F',\n",
    "    'z' : '0x2C'\n",
    "}"
   ]
  },
  {
   "cell_type": "code",
   "execution_count": 2,
   "metadata": {
    "scrolled": false
   },
   "outputs": [
    {
     "ename": "NameError",
     "evalue": "name 'directkeys' is not defined",
     "output_type": "error",
     "traceback": [
      "\u001b[1;31m---------------------------------------------------------------------------\u001b[0m",
      "\u001b[1;31mNameError\u001b[0m                                 Traceback (most recent call last)",
      "\u001b[1;32m<ipython-input-2-29ddf90be46a>\u001b[0m in \u001b[0;36m<module>\u001b[1;34m()\u001b[0m\n\u001b[0;32m      1\u001b[0m \u001b[1;32mfrom\u001b[0m \u001b[0mdirectkeys\u001b[0m \u001b[1;32mimport\u001b[0m \u001b[1;33m*\u001b[0m\u001b[1;33m\u001b[0m\u001b[0m\n\u001b[1;32m----> 2\u001b[1;33m \u001b[0mPressKey\u001b[0m\u001b[1;33m(\u001b[0m\u001b[0mdirectkeys\u001b[0m\u001b[1;33m.\u001b[0m\u001b[0mdinput\u001b[0m\u001b[1;33m.\u001b[0m\u001b[0mh\u001b[0m\u001b[1;33m.\u001b[0m\u001b[0mDIK_1\u001b[0m\u001b[1;33m)\u001b[0m\u001b[1;33m\u001b[0m\u001b[0m\n\u001b[0m",
      "\u001b[1;31mNameError\u001b[0m: name 'directkeys' is not defined"
     ]
    }
   ],
   "source": [
    "from directkeys import *\n",
    "PressKey(directkeys.dinput.h.DIK_1)"
   ]
  },
  {
   "cell_type": "code",
   "execution_count": 3,
   "metadata": {},
   "outputs": [
    {
     "data": {
      "text/plain": [
       "'3.6.2 (v3.6.2:5fd33b5, Jul  8 2017, 04:57:36) [MSC v.1900 64 bit (AMD64)]'"
      ]
     },
     "execution_count": 3,
     "metadata": {},
     "output_type": "execute_result"
    }
   ],
   "source": [
    "import sys\n",
    "\n",
    "sys.version"
   ]
  }
 ],
 "metadata": {
  "kernelspec": {
   "display_name": "Python 3",
   "language": "python",
   "name": "python3"
  },
  "language_info": {
   "codemirror_mode": {
    "name": "ipython",
    "version": 3
   },
   "file_extension": ".py",
   "mimetype": "text/x-python",
   "name": "python",
   "nbconvert_exporter": "python",
   "pygments_lexer": "ipython3",
   "version": "3.6.2"
  }
 },
 "nbformat": 4,
 "nbformat_minor": 2
}
